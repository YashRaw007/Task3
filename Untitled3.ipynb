{
 "cells": [
  {
   "cell_type": "code",
   "execution_count": 1,
   "id": "9b334387",
   "metadata": {},
   "outputs": [],
   "source": [
    "from urllib import request"
   ]
  },
  {
   "cell_type": "code",
   "execution_count": 2,
   "id": "1bcddd14",
   "metadata": {},
   "outputs": [],
   "source": [
    "url = \"https://www.gutenberg.org/cache/epub/98/pg98-images.html\""
   ]
  },
  {
   "cell_type": "code",
   "execution_count": 7,
   "id": "b8723853",
   "metadata": {},
   "outputs": [],
   "source": [
    "response = request.urlopen(url)"
   ]
  },
  {
   "cell_type": "code",
   "execution_count": 8,
   "id": "efc2df46",
   "metadata": {},
   "outputs": [],
   "source": [
    "raw = response.read().decode('utf8')"
   ]
  },
  {
   "cell_type": "code",
   "execution_count": 37,
   "id": "1ee03866",
   "metadata": {},
   "outputs": [],
   "source": [
    "import nltk\n",
    "from nltk.tokenize import word_tokenize \n",
    "tokens = word_tokenize(raw)"
   ]
  },
  {
   "cell_type": "code",
   "execution_count": null,
   "id": "c89d12a9",
   "metadata": {},
   "outputs": [],
   "source": [
    "print(tokens[:20])"
   ]
  },
  {
   "cell_type": "code",
   "execution_count": 22,
   "id": "b5e19d75",
   "metadata": {},
   "outputs": [
    {
     "data": {
      "text/plain": [
       "'walk'"
      ]
     },
     "execution_count": 22,
     "metadata": {},
     "output_type": "execute_result"
    }
   ],
   "source": [
    "from nltk.stem import  PorterStemmer\n",
    "porter = PorterStemmer()\n",
    "porter.stem('walking')"
   ]
  },
  {
   "cell_type": "code",
   "execution_count": 24,
   "id": "aa79e40e",
   "metadata": {},
   "outputs": [
    {
     "data": {
      "text/plain": [
       "'happi'"
      ]
     },
     "execution_count": 24,
     "metadata": {},
     "output_type": "execute_result"
    }
   ],
   "source": [
    "from nltk.stem import  PorterStemmer\n",
    "porter = PorterStemmer()\n",
    "porter.stem('happiness')"
   ]
  },
  {
   "cell_type": "code",
   "execution_count": 23,
   "id": "055816e4",
   "metadata": {},
   "outputs": [
    {
     "data": {
      "text/plain": [
       "'happy'"
      ]
     },
     "execution_count": 23,
     "metadata": {},
     "output_type": "execute_result"
    }
   ],
   "source": [
    "from nltk.stem import  LancasterStemmer\n",
    "porter = LancasterStemmer()\n",
    "porter.stem('happiness')"
   ]
  },
  {
   "cell_type": "code",
   "execution_count": 26,
   "id": "cef0ce86",
   "metadata": {},
   "outputs": [
    {
     "data": {
      "text/plain": [
       "'s'"
      ]
     },
     "execution_count": 26,
     "metadata": {},
     "output_type": "execute_result"
    }
   ],
   "source": [
    "from nltk.stem import  RegexpStemmer\n",
    "porter = RegexpStemmer('ing')\n",
    "porter.stem('singing')"
   ]
  },
  {
   "cell_type": "code",
   "execution_count": 27,
   "id": "78428f19",
   "metadata": {},
   "outputs": [
    {
     "data": {
      "text/plain": [
       "'avoir'"
      ]
     },
     "execution_count": 27,
     "metadata": {},
     "output_type": "execute_result"
    }
   ],
   "source": [
    "from nltk.stem import  SnowballStemmer\n",
    "porter = SnowballStemmer('french')\n",
    "porter.stem('avoir')"
   ]
  },
  {
   "cell_type": "code",
   "execution_count": 38,
   "id": "fb898f54",
   "metadata": {},
   "outputs": [
    {
     "data": {
      "text/plain": [
       "'detest'"
      ]
     },
     "execution_count": 38,
     "metadata": {},
     "output_type": "execute_result"
    }
   ],
   "source": [
    "from nltk.stem import  SnowballStemmer\n",
    "porter = SnowballStemmer('french')\n",
    "porter.stem('detester')"
   ]
  },
  {
   "cell_type": "code",
   "execution_count": 41,
   "id": "386e8bf6",
   "metadata": {},
   "outputs": [],
   "source": [
    "porter = PorterStemmer()\n",
    "text = \"It was the best of times, it was the worst of times, it was the age of wisdom, it was the age of foolishness, it was the epoch of belief\""
   ]
  },
  {
   "cell_type": "code",
   "execution_count": 42,
   "id": "640db076",
   "metadata": {},
   "outputs": [],
   "source": [
    "text=[porter.stem(token)for token in text.split(\" \")]"
   ]
  },
  {
   "cell_type": "code",
   "execution_count": 45,
   "id": "31843223",
   "metadata": {},
   "outputs": [
    {
     "name": "stdout",
     "output_type": "stream",
     "text": [
      "it wa the best of times, it wa the worst of times, it wa the age of wisdom, it wa the age of foolishness, it wa the epoch of belief\n"
     ]
    }
   ],
   "source": [
    "print(\" \".join(text))"
   ]
  },
  {
   "cell_type": "code",
   "execution_count": null,
   "id": "e18463d4",
   "metadata": {},
   "outputs": [],
   "source": []
  }
 ],
 "metadata": {
  "kernelspec": {
   "display_name": "Python 3 (ipykernel)",
   "language": "python",
   "name": "python3"
  },
  "language_info": {
   "codemirror_mode": {
    "name": "ipython",
    "version": 3
   },
   "file_extension": ".py",
   "mimetype": "text/x-python",
   "name": "python",
   "nbconvert_exporter": "python",
   "pygments_lexer": "ipython3",
   "version": "3.9.13"
  }
 },
 "nbformat": 4,
 "nbformat_minor": 5
}
